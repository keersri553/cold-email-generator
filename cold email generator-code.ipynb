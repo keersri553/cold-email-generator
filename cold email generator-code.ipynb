{
 "cells": [
  {
   "cell_type": "markdown",
   "id": "7cd6c925-938e-425b-a6c1-9b90e3a99800",
   "metadata": {},
   "source": [
    "COLD EMAIL GENERATOR"
   ]
  },
  {
   "cell_type": "code",
   "execution_count": 1,
   "id": "aff5c998-12e9-41da-8f99-d44fb2ca128c",
   "metadata": {},
   "outputs": [],
   "source": [
    "from langchain_groq import ChatGroq\n",
    "\n",
    "llm = ChatGroq(\n",
    "    temperature=0, \n",
    "    groq_api_key='Enter your created API key from Groq', \n",
    "    model_name=\"llama3-70b-8192\"\n",
    ")\n"
   ]
  },
  {
   "cell_type": "markdown",
   "id": "d62607aa-dae7-45e7-823e-3cb619d98e9b",
   "metadata": {},
   "source": [
    "Load career page content from a URL"
   ]
  },
  {
   "cell_type": "code",
   "execution_count": 2,
   "id": "d848430c-dbc9-4054-8727-9ea6af11e928",
   "metadata": {
    "scrolled": true
   },
   "outputs": [
    {
     "name": "stderr",
     "output_type": "stream",
     "text": [
      "USER_AGENT environment variable not set, consider setting it to identify your requests.\n"
     ]
    },
    {
     "name": "stdout",
     "output_type": "stream",
     "text": [
      "Job Application for Data Engineer, Product at NotionBack to jobsData Engineer, ProductSan Francisco, CaliforniaApplyAbout Us:\n",
      "We're on a mission to make it possible for every person, team, and company to be able to tailor their software to solve any problem and take on any challenge. Computers may be our most powerful tools, but most of us can't build or modify the software we use on them every day. At Notion, we want to change this with focus, design, and craft.\n",
      "We've been working on this together since 2016, and have customers like OpenAI, Toyota, Figma, Ramp, and thousands more on this journey with us. Today, we're growing fast and excited for new teammates to join us who are the best at what they do. We're passionate about building a company as diverse and creative as the millions of people Notion reaches worldwide.\n",
      "Notion is an in-person company, and currently requires its employees to come to the office for two Anchor Days (Mondays & Thursdays) and requests that employees spend t\n"
     ]
    }
   ],
   "source": [
    "from langchain_community.document_loaders import WebBaseLoader\n",
    "\n",
    "# ✅ New job URL from Notion (hosted on Greenhouse)\n",
    "url = \"https://job-boards.greenhouse.io/notion/jobs/6549644003\"\n",
    "\n",
    "loader = WebBaseLoader(url)\n",
    "page_data = loader.load().pop().page_content\n",
    "\n",
    "print(page_data[:1000])\n"
   ]
  },
  {
   "cell_type": "markdown",
   "id": "599bf17c-dbd6-4ba7-870a-18a61ddc0a62",
   "metadata": {},
   "source": [
    "Extract job JSON info from the page content using your LLM"
   ]
  },
  {
   "cell_type": "code",
   "execution_count": 3,
   "id": "a63ff1ac-40c2-4e6b-9156-39953fa4b1ba",
   "metadata": {},
   "outputs": [
    {
     "data": {
      "text/plain": [
       "str"
      ]
     },
     "execution_count": 3,
     "metadata": {},
     "output_type": "execute_result"
    }
   ],
   "source": [
    "from langchain_core.prompts import PromptTemplate\n",
    "\n",
    "prompt_extract = PromptTemplate.from_template(\n",
    "        \"\"\"\n",
    "        ### SCRAPED TEXT FROM WEBSITE:\n",
    "        {page_data}\n",
    "        ### INSTRUCTION:\n",
    "        The scraped text is from the career's page of a website.\n",
    "        Your job is to extract the job postings and return them in JSON format containing the \n",
    "        following keys: `role`, `experience`, `skills` and `description`.\n",
    "        Only return the valid JSON.\n",
    "        ### VALID JSON (NO PREAMBLE):    \n",
    "        \"\"\"\n",
    ")\n",
    "\n",
    "chain_extract = prompt_extract | llm \n",
    "res = chain_extract.invoke(input={'page_data':page_data})\n",
    "type(res.content)"
   ]
  },
  {
   "cell_type": "markdown",
   "id": "838a1941-2f80-4f61-a9ac-9756e4950de7",
   "metadata": {},
   "source": [
    "Parse the extracted JSON string into a Python dictionary"
   ]
  },
  {
   "cell_type": "code",
   "execution_count": 4,
   "id": "e8997335-84d3-4058-8f09-c981a9f8ed2f",
   "metadata": {
    "scrolled": true
   },
   "outputs": [
    {
     "name": "stdout",
     "output_type": "stream",
     "text": [
      "{'role': 'Data Engineer, Product', 'experience': 4, 'skills': ['analytics use cases', 'solving complex data problems', 'hands-on experience shipping scalable data solutions in the cloud', 'SQL expert', 'object-oriented programming paradigms', 'designing and building highly scalable and reliable data pipelines using BigData stack'], 'description': \"As Notion continues to grow rapidly, we're seeking talented data engineers to join our team and help us build foundational datasets and pipelines, as well as the infrastructure that supports them. Your work will accelerate the decision-making process of key product and business functions.\"}\n"
     ]
    }
   ],
   "source": [
    "from langchain_core.output_parsers import JsonOutputParser\n",
    "\n",
    "json_parser = JsonOutputParser()\n",
    "job = json_parser.parse(res.content)\n",
    "print(job)"
   ]
  },
  {
   "cell_type": "code",
   "execution_count": 5,
   "id": "4c882a4a-cf04-46e4-827f-ab64f2e683e2",
   "metadata": {},
   "outputs": [
    {
     "data": {
      "text/plain": [
       "dict"
      ]
     },
     "execution_count": 5,
     "metadata": {},
     "output_type": "execute_result"
    }
   ],
   "source": [
    "type(job)"
   ]
  },
  {
   "cell_type": "code",
   "execution_count": 6,
   "id": "cef8adf1-fbb1-46b3-8952-d4ff66c44b12",
   "metadata": {},
   "outputs": [
    {
     "data": {
      "text/html": [
       "<div>\n",
       "<style scoped>\n",
       "    .dataframe tbody tr th:only-of-type {\n",
       "        vertical-align: middle;\n",
       "    }\n",
       "\n",
       "    .dataframe tbody tr th {\n",
       "        vertical-align: top;\n",
       "    }\n",
       "\n",
       "    .dataframe thead th {\n",
       "        text-align: right;\n",
       "    }\n",
       "</style>\n",
       "<table border=\"1\" class=\"dataframe\">\n",
       "  <thead>\n",
       "    <tr style=\"text-align: right;\">\n",
       "      <th></th>\n",
       "      <th>Role</th>\n",
       "      <th>Skills</th>\n",
       "      <th>Resume_Link</th>\n",
       "    </tr>\n",
       "  </thead>\n",
       "  <tbody>\n",
       "    <tr>\n",
       "      <th>0</th>\n",
       "      <td>Frontend Developer</td>\n",
       "      <td>HTML, CSS, JavaScript, React</td>\n",
       "      <td>https://example.com/frontend-resume</td>\n",
       "    </tr>\n",
       "    <tr>\n",
       "      <th>1</th>\n",
       "      <td>Backend Developer</td>\n",
       "      <td>Java, Spring Boot, MySQL</td>\n",
       "      <td>https://example.com/backend-resume</td>\n",
       "    </tr>\n",
       "    <tr>\n",
       "      <th>2</th>\n",
       "      <td>Full Stack Developer</td>\n",
       "      <td>JavaScript, Node.js, MongoDB, React</td>\n",
       "      <td>https://example.com/fullstack-resume</td>\n",
       "    </tr>\n",
       "    <tr>\n",
       "      <th>3</th>\n",
       "      <td>Mobile App Developer</td>\n",
       "      <td>Flutter, Dart, Firebase</td>\n",
       "      <td>https://example.com/mobile-resume</td>\n",
       "    </tr>\n",
       "    <tr>\n",
       "      <th>4</th>\n",
       "      <td>DevOps Engineer</td>\n",
       "      <td>Docker, Jenkins, Kubernetes, AWS</td>\n",
       "      <td>https://example.com/devops-resume</td>\n",
       "    </tr>\n",
       "    <tr>\n",
       "      <th>5</th>\n",
       "      <td>Data Scientist</td>\n",
       "      <td>Python, Pandas, NumPy, SQL</td>\n",
       "      <td>https://example.com/data-scientist-resume</td>\n",
       "    </tr>\n",
       "    <tr>\n",
       "      <th>6</th>\n",
       "      <td>Machine Learning Engineer</td>\n",
       "      <td>Python, TensorFlow, Scikit-learn</td>\n",
       "      <td>https://example.com/ml-engineer-resume</td>\n",
       "    </tr>\n",
       "    <tr>\n",
       "      <th>7</th>\n",
       "      <td>UI/UX Designer</td>\n",
       "      <td>Figma, Adobe XD, Sketch</td>\n",
       "      <td>https://example.com/uiux-resume</td>\n",
       "    </tr>\n",
       "    <tr>\n",
       "      <th>8</th>\n",
       "      <td>Cloud Architect</td>\n",
       "      <td>AWS, Azure, GCP, Terraform</td>\n",
       "      <td>https://example.com/cloud-architect-resume</td>\n",
       "    </tr>\n",
       "    <tr>\n",
       "      <th>9</th>\n",
       "      <td>Cybersecurity Analyst</td>\n",
       "      <td>Python, Wireshark, Kali Linux</td>\n",
       "      <td>https://example.com/cybersecurity-resume</td>\n",
       "    </tr>\n",
       "    <tr>\n",
       "      <th>10</th>\n",
       "      <td>Embedded Systems Engineer</td>\n",
       "      <td>C, C++, RTOS, Microcontrollers</td>\n",
       "      <td>https://example.com/embedded-resume</td>\n",
       "    </tr>\n",
       "    <tr>\n",
       "      <th>11</th>\n",
       "      <td>Game Developer</td>\n",
       "      <td>Unity, C#, Blender</td>\n",
       "      <td>https://example.com/game-dev-resume</td>\n",
       "    </tr>\n",
       "    <tr>\n",
       "      <th>12</th>\n",
       "      <td>Business Analyst</td>\n",
       "      <td>Excel, SQL, Tableau</td>\n",
       "      <td>https://example.com/ba-resume</td>\n",
       "    </tr>\n",
       "    <tr>\n",
       "      <th>13</th>\n",
       "      <td>Product Manager</td>\n",
       "      <td>Agile, Scrum, Roadmapping</td>\n",
       "      <td>https://example.com/pm-resume</td>\n",
       "    </tr>\n",
       "    <tr>\n",
       "      <th>14</th>\n",
       "      <td>Blockchain Developer</td>\n",
       "      <td>Solidity, Ethereum, Web3.js</td>\n",
       "      <td>https://example.com/blockchain-resume</td>\n",
       "    </tr>\n",
       "    <tr>\n",
       "      <th>15</th>\n",
       "      <td>AI Researcher</td>\n",
       "      <td>Python, PyTorch, Jupyter</td>\n",
       "      <td>https://example.com/ai-researcher-resume</td>\n",
       "    </tr>\n",
       "    <tr>\n",
       "      <th>16</th>\n",
       "      <td>QA Engineer</td>\n",
       "      <td>Selenium, Postman, TestNG</td>\n",
       "      <td>https://example.com/qa-resume</td>\n",
       "    </tr>\n",
       "    <tr>\n",
       "      <th>17</th>\n",
       "      <td>Site Reliability Engineer</td>\n",
       "      <td>Prometheus, Grafana, Bash</td>\n",
       "      <td>https://example.com/sre-resume</td>\n",
       "    </tr>\n",
       "    <tr>\n",
       "      <th>18</th>\n",
       "      <td>Technical Writer</td>\n",
       "      <td>Markdown, Git, API Docs</td>\n",
       "      <td>https://example.com/tech-writer-resume</td>\n",
       "    </tr>\n",
       "    <tr>\n",
       "      <th>19</th>\n",
       "      <td>AR/VR Developer</td>\n",
       "      <td>Unity, ARKit, ARCore</td>\n",
       "      <td>https://example.com/ar-vr-resume</td>\n",
       "    </tr>\n",
       "    <tr>\n",
       "      <th>20</th>\n",
       "      <td>Business Development Manager, Growth &amp; Ecosyst...</td>\n",
       "      <td>Partnership Management, Growth Strategy, Ecosy...</td>\n",
       "      <td>https://example.com/business-development-manag...</td>\n",
       "    </tr>\n",
       "  </tbody>\n",
       "</table>\n",
       "</div>"
      ],
      "text/plain": [
       "                                                 Role  \\\n",
       "0                                  Frontend Developer   \n",
       "1                                   Backend Developer   \n",
       "2                                Full Stack Developer   \n",
       "3                                Mobile App Developer   \n",
       "4                                     DevOps Engineer   \n",
       "5                                      Data Scientist   \n",
       "6                           Machine Learning Engineer   \n",
       "7                                      UI/UX Designer   \n",
       "8                                     Cloud Architect   \n",
       "9                               Cybersecurity Analyst   \n",
       "10                          Embedded Systems Engineer   \n",
       "11                                     Game Developer   \n",
       "12                                   Business Analyst   \n",
       "13                                    Product Manager   \n",
       "14                               Blockchain Developer   \n",
       "15                                      AI Researcher   \n",
       "16                                        QA Engineer   \n",
       "17                          Site Reliability Engineer   \n",
       "18                                   Technical Writer   \n",
       "19                                    AR/VR Developer   \n",
       "20  Business Development Manager, Growth & Ecosyst...   \n",
       "\n",
       "                                               Skills  \\\n",
       "0                        HTML, CSS, JavaScript, React   \n",
       "1                            Java, Spring Boot, MySQL   \n",
       "2                 JavaScript, Node.js, MongoDB, React   \n",
       "3                             Flutter, Dart, Firebase   \n",
       "4                    Docker, Jenkins, Kubernetes, AWS   \n",
       "5                          Python, Pandas, NumPy, SQL   \n",
       "6                    Python, TensorFlow, Scikit-learn   \n",
       "7                             Figma, Adobe XD, Sketch   \n",
       "8                          AWS, Azure, GCP, Terraform   \n",
       "9                       Python, Wireshark, Kali Linux   \n",
       "10                     C, C++, RTOS, Microcontrollers   \n",
       "11                                 Unity, C#, Blender   \n",
       "12                                Excel, SQL, Tableau   \n",
       "13                          Agile, Scrum, Roadmapping   \n",
       "14                        Solidity, Ethereum, Web3.js   \n",
       "15                           Python, PyTorch, Jupyter   \n",
       "16                          Selenium, Postman, TestNG   \n",
       "17                          Prometheus, Grafana, Bash   \n",
       "18                            Markdown, Git, API Docs   \n",
       "19                               Unity, ARKit, ARCore   \n",
       "20  Partnership Management, Growth Strategy, Ecosy...   \n",
       "\n",
       "                                          Resume_Link  \n",
       "0                 https://example.com/frontend-resume  \n",
       "1                  https://example.com/backend-resume  \n",
       "2                https://example.com/fullstack-resume  \n",
       "3                   https://example.com/mobile-resume  \n",
       "4                   https://example.com/devops-resume  \n",
       "5           https://example.com/data-scientist-resume  \n",
       "6              https://example.com/ml-engineer-resume  \n",
       "7                     https://example.com/uiux-resume  \n",
       "8          https://example.com/cloud-architect-resume  \n",
       "9            https://example.com/cybersecurity-resume  \n",
       "10                https://example.com/embedded-resume  \n",
       "11                https://example.com/game-dev-resume  \n",
       "12                      https://example.com/ba-resume  \n",
       "13                      https://example.com/pm-resume  \n",
       "14              https://example.com/blockchain-resume  \n",
       "15           https://example.com/ai-researcher-resume  \n",
       "16                      https://example.com/qa-resume  \n",
       "17                     https://example.com/sre-resume  \n",
       "18             https://example.com/tech-writer-resume  \n",
       "19                   https://example.com/ar-vr-resume  \n",
       "20  https://example.com/business-development-manag...  "
      ]
     },
     "execution_count": 6,
     "metadata": {},
     "output_type": "execute_result"
    }
   ],
   "source": [
    "import pandas as pd\n",
    "df = pd.read_csv(\"sample_resumes_by_role.csv\")\n",
    "df"
   ]
  },
  {
   "cell_type": "markdown",
   "id": "c1e63629-5896-49fe-a4d9-ccbc9dad37d5",
   "metadata": {},
   "source": [
    "Load your resumes CSV and initialize ChromaDB collection"
   ]
  },
  {
   "cell_type": "code",
   "execution_count": 7,
   "id": "cb3e1b35-b4fa-49d3-abb3-4cc3d481e4d7",
   "metadata": {},
   "outputs": [],
   "source": [
    "import pandas as pd\n",
    "import uuid\n",
    "import chromadb\n",
    "\n",
    "# Load resumes data\n",
    "df = pd.read_csv(\"sample_resumes_by_role.csv\")\n",
    "\n",
    "# Initialize ChromaDB client and collection\n",
    "client = chromadb.PersistentClient('vectorstore')\n",
    "resume_collection = client.get_or_create_collection(name=\"resume_collection\")\n",
    "\n",
    "# Add resumes to collection if empty\n",
    "if not resume_collection.count():\n",
    "    for _, row in df.iterrows():\n",
    "        resume_collection.add(\n",
    "            documents=[row[\"Skills\"]],\n",
    "            metadatas=[{\"link\": row[\"Resume_Link\"]}],\n",
    "            ids=[str(uuid.uuid4())]\n",
    "        )\n"
   ]
  },
  {
   "cell_type": "markdown",
   "id": "4b0fb11e-ac88-4be2-a802-6ffcac67e9f7",
   "metadata": {},
   "source": [
    "Query ChromaDB to find top matching resumes by job skills"
   ]
  },
  {
   "cell_type": "code",
   "execution_count": 8,
   "id": "652297a0-5a8a-43af-81a2-b08c1fddaca1",
   "metadata": {},
   "outputs": [
    {
     "name": "stdout",
     "output_type": "stream",
     "text": [
      "Matched resume links: ['https://example.com/ba-resume', 'https://example.com/cloud-architect-resume', 'https://example.com/devops-resume']\n"
     ]
    }
   ],
   "source": [
    "query_text = \", \".join(job.get(\"skills\", [])) if isinstance(job.get(\"skills\", []), list) else job.get(\"skills\", \"\")\n",
    "\n",
    "results = resume_collection.query(query_texts=[query_text], n_results=3)\n",
    "\n",
    "# Extract resume links from query results\n",
    "metadatas = results.get(\"metadatas\", [])\n",
    "links = []\n",
    "if metadatas:\n",
    "    for meta in metadatas[0]:\n",
    "        link = meta.get(\"link\", \"\")\n",
    "        if link:\n",
    "            links.append(link)\n",
    "\n",
    "print(\"Matched resume links:\", links)"
   ]
  },
  {
   "cell_type": "markdown",
   "id": "5bc985b4-68ad-4685-80ff-363f7cbaa4a2",
   "metadata": {},
   "source": [
    "Generate a cold email based on the job and matched resumes"
   ]
  },
  {
   "cell_type": "code",
   "execution_count": 12,
   "id": "2ca2f6af-497a-4de4-b388-4aa4703595b4",
   "metadata": {},
   "outputs": [
    {
     "name": "stdout",
     "output_type": "stream",
     "text": [
      "Subject: Application for Data Engineer, Product Role\n",
      "\n",
      "Hello Hiring Manager,\n",
      "\n",
      "I am excited to express my interest in the Engineer, Product role at Notion. With 4+ years of experience in building scalable data solutions in the cloud, I believe I can make a significant impact in accelerating the decision-making process of key product and business functions.\n",
      "\n",
      "My skills align well with the job requirements, including analytics use cases, hands-on experience with BigData stack, and building highly scalable and reliable data pipelines. I am an SQL expert and proficient in object-oriented programming paradigms.\n",
      "\n",
      "I would love the opportunity to discuss how my skills and experience can contribute to Notion's growth. Please find my resume at https://example.com/ba-resume\n",
      "\n",
      "Thank you for considering my application. I look forward to hearing from you soon.\n",
      "\n",
      "Best regards,\n",
      "Sri\n"
     ]
    }
   ],
   "source": [
    "from langchain import PromptTemplate as LangchainPromptTemplate\n",
    "\n",
    "link_list = \", \".join(links)\n",
    "\n",
    "prompt_email = LangchainPromptTemplate.from_template(\n",
    "   \"\"\"\n",
    "    ### JOB DESCRIPTION:\n",
    "    {job_description}\n",
    "    \n",
    "    ### INSTRUCTION:\n",
    "    You are Sri, a job seeker reaching out to HR/recruiter about the job described above.\n",
    "    Write a polite and concise cold email expressing your interest in the role.\n",
    "    Highlight your relevant skills and experience based on the job description.\n",
    "    Include a link to your resume suitable for the role from this list: {link_list}\n",
    "    Keep the tone professional, simple, and formal.\n",
    "    The email must include:\n",
    "    - A subject line\n",
    "    - Don't mention that you have selected a resume suitable for the role\n",
    "    - Body starting with \"Hello [Hiring manager's name],\"\n",
    "    \n",
    "    \n",
    "    ### EMAIL (NO PREAMBLE):\n",
    "    \"\"\"\n",
    ")\n",
    "\n",
    "chain_email = prompt_email | llm  # replace `llm` with your LLM instance\n",
    "email_response = chain_email.invoke({\"job_description\": str(job), \"link_list\": link_list})\n",
    "\n",
    "print(email_response.content)\n"
   ]
  }
 ],
 "metadata": {
  "kernelspec": {
   "display_name": "Python 3 (ipykernel)",
   "language": "python",
   "name": "python3"
  },
  "language_info": {
   "codemirror_mode": {
    "name": "ipython",
    "version": 3
   },
   "file_extension": ".py",
   "mimetype": "text/x-python",
   "name": "python",
   "nbconvert_exporter": "python",
   "pygments_lexer": "ipython3",
   "version": "3.10.5"
  }
 },
 "nbformat": 4,
 "nbformat_minor": 5
}
